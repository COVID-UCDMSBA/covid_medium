{
 "cells": [
  {
   "cell_type": "markdown",
   "metadata": {},
   "source": [
    "# The objective: \n",
    "\n",
    "### Explore the relationship between bipartisan and the severity of COVID-19"
   ]
  },
  {
   "cell_type": "code",
   "execution_count": 255,
   "metadata": {},
   "outputs": [],
   "source": [
    "import warnings\n",
    "warnings.filterwarnings(\"ignore\")\n",
    "\n",
    "import pandas as pd\n",
    "from pandas import DataFrame,Series\n",
    "import numpy as np\n",
    "from matplotlib import pyplot as plt\n",
    "from sklearn.cluster import KMeans\n",
    "from sklearn import preprocessing\n",
    "from sklearn.linear_model import LinearRegression\n",
    "from sklearn import metrics\n",
    "import statsmodels.api as sm # import statsmodels \n",
    "import seaborn as sns\n",
    "import sklearn\n",
    "from sklearn.linear_model import Lasso\n",
    "from sklearn.model_selection import GridSearchCV\n",
    "from statsmodels.stats.outliers_influence import variance_inflation_factor\n",
    "from pandas_profiling import ProfileReport\n",
    "from imblearn.over_sampling import SMOTE\n",
    "import smogn\n",
    "from random import sample\n",
    "import seaborn as sns\n",
    "\n",
    "%matplotlib inline"
   ]
  },
  {
   "cell_type": "markdown",
   "metadata": {},
   "source": [
    "# Data transformation"
   ]
  },
  {
   "cell_type": "code",
   "execution_count": 256,
   "metadata": {},
   "outputs": [],
   "source": [
    "#import dataset\n",
    "county_data = pd.read_csv('C:/Users/cy/Desktop/COVID-19/data/county_eco_data.csv',dtype={'FIPS':'int'})\n",
    "party_data = pd.read_csv('C:/Users/cy/Desktop/COVID-19/data/governor-wide.csv')\n",
    "case_data = pd.read_csv('C:/Users/cy/Desktop/COVID-19/data/us-counties.csv')"
   ]
  },
  {
   "cell_type": "code",
   "execution_count": 257,
   "metadata": {},
   "outputs": [],
   "source": [
    "party_data['pct'] = party_data['rep']/party_data['total.votes']\n",
    "party_data = party_data[['fipscode','pct']]\n",
    "\n",
    "#transform data of new york\n",
    "county_data = county_data[county_data['Area_Name']!='New York County']\n",
    "case_data.loc[case_data['county']=='New York City','fips'] = 36000"
   ]
  },
  {
   "cell_type": "code",
   "execution_count": 258,
   "metadata": {},
   "outputs": [],
   "source": [
    "#change data type\n",
    "case_data['date'] = pd.to_datetime(case_data['date'])\n",
    "party_data['fipscode'] = party_data['fipscode'].astype('int')\n",
    "county_data['FIPS'] = county_data['FIPS'].astype('int')"
   ]
  },
  {
   "cell_type": "code",
   "execution_count": 260,
   "metadata": {},
   "outputs": [],
   "source": [
    "#get the latest cumulative cases by county\n",
    "case_static = case_data.groupby('fips',as_index=False)['cases'].max()"
   ]
  },
  {
   "cell_type": "code",
   "execution_count": 261,
   "metadata": {},
   "outputs": [],
   "source": [
    "#aggregate the party data (some county has same fips)\n",
    "party_data = party_data.groupby('fipscode',as_index=False).sum()"
   ]
  },
  {
   "cell_type": "code",
   "execution_count": 262,
   "metadata": {},
   "outputs": [],
   "source": [
    "#merge data\n",
    "combined_data = case_static.merge(county_data,how='inner',left_on='fips',right_on='FIPS')\n",
    "combined_data = combined_data.merge(party_data,how='inner',left_on='fips',right_on='fipscode')"
   ]
  },
  {
   "cell_type": "code",
   "execution_count": 263,
   "metadata": {},
   "outputs": [],
   "source": [
    "#set the earlist data of the covid in US as day 0, and calculate the relative day of the spread for each county\n",
    "relative_date = (case_data.groupby('fips')['date'].min() - case_data['date'].min()).map(lambda x: int(str(x).split(' ')[0])).reset_index()\n",
    "relative_date.columns = ['fips','relative_covid_date']"
   ]
  },
  {
   "cell_type": "code",
   "execution_count": 264,
   "metadata": {},
   "outputs": [],
   "source": [
    "#merge again\n",
    "combined_data = combined_data.merge(relative_date,left_on='fips',right_on='fips')"
   ]
  },
  {
   "cell_type": "code",
   "execution_count": 265,
   "metadata": {},
   "outputs": [],
   "source": [
    "#create new columns\n",
    "combined_data['old_pct'] = combined_data['Total_age65plus']/combined_data['POP_ESTIMATE_2018']\n",
    "combined_data['hospital_pop'] = combined_data['Total Hospitals (2019)']/combined_data['POP_ESTIMATE_2018']\n",
    "combined_data['cases_pop'] = combined_data['cases']/combined_data['POP_ESTIMATE_2018']\n",
    "combined_data['male_pct'] = combined_data['Total_Male']/combined_data['POP_ESTIMATE_2018']"
   ]
  },
  {
   "cell_type": "code",
   "execution_count": 266,
   "metadata": {},
   "outputs": [
    {
     "data": {
      "text/plain": [
       "1909"
      ]
     },
     "execution_count": 266,
     "metadata": {},
     "output_type": "execute_result"
    }
   ],
   "source": [
    "len(combined_data)"
   ]
  },
  {
   "cell_type": "code",
   "execution_count": 267,
   "metadata": {},
   "outputs": [],
   "source": [
    "#create dummy variable\n",
    "combined_data['republican'] = combined_data['pct'].map(lambda x: 1 if (x>0.5) else 0)"
   ]
  },
  {
   "cell_type": "markdown",
   "metadata": {},
   "source": [
    "# Explore the relationship between party and cases_pop"
   ]
  },
  {
   "cell_type": "code",
   "execution_count": 268,
   "metadata": {},
   "outputs": [],
   "source": [
    "combined_log = combined_data.copy()\n",
    "\n",
    "#rename columns\n",
    "combined_log = combined_log.rename(columns = {'Median_Household_Income_2018':'income','Unemployment_rate_2018':'unemp_rate','Mar Temp AVG / F':'temp',\n",
    "                       'transit_scores - population weighted averages aggregated from town/city level to county':'transit_score','Density per square mile of land area - Population':'density',\n",
    "                                             'R_INTERNATIONAL_MIG_2018':'immigration'})"
   ]
  },
  {
   "cell_type": "code",
   "execution_count": 269,
   "metadata": {},
   "outputs": [],
   "source": [
    "#log the data\n",
    "combined_log['cases_pop'] = np.log(1000000*combined_log['cases_pop'])\n",
    "combined_log['density_log'] = np.log(combined_log['density'])\n",
    "combined_log['old_pct_log'] = np.log(combined_log['old_pct'])\n",
    "combined_log['umemp_log'] = np.log(combined_log['unemp_rate'])"
   ]
  },
  {
   "cell_type": "code",
   "execution_count": 270,
   "metadata": {},
   "outputs": [
    {
     "data": {
      "text/plain": [
       "(array([1.835e+03, 4.600e+01, 1.200e+01, 6.000e+00, 4.000e+00, 2.000e+00,\n",
       "        2.000e+00, 1.000e+00, 0.000e+00, 1.000e+00]),\n",
       " array([1.56455348e-05, 5.40151280e-03, 1.07873801e-02, 1.61732473e-02,\n",
       "        2.15591146e-02, 2.69449818e-02, 3.23308491e-02, 3.77167164e-02,\n",
       "        4.31025836e-02, 4.84884509e-02, 5.38743182e-02]),\n",
       " <a list of 10 Patch objects>)"
      ]
     },
     "execution_count": 270,
     "metadata": {},
     "output_type": "execute_result"
    },
    {
     "data": {
      "image/png": "[encoded data removed]",
      "text/plain": [
       "<Figure size 432x288 with 1 Axes>"
      ]
     },
     "metadata": {
      "needs_background": "light"
     },
     "output_type": "display_data"
    }
   ],
   "source": [
    "#original data \n",
    "plt.hist(combined_data['cases_pop']) #highly right skewed"
   ]
  },
  {
   "cell_type": "code",
   "execution_count": 271,
   "metadata": {},
   "outputs": [
    {
     "data": {
      "text/plain": [
       "(array([  5.,  57., 223., 411., 565., 385., 175.,  60.,  21.,   7.]),\n",
       " array([ 2.75018556,  3.56460792,  4.37903028,  5.19345264,  6.007875  ,\n",
       "         6.82229736,  7.63671973,  8.45114209,  9.26556445, 10.07998681,\n",
       "        10.89440917]),\n",
       " <a list of 10 Patch objects>)"
      ]
     },
     "execution_count": 271,
     "metadata": {},
     "output_type": "execute_result"
    },
    {
     "data": {
      "image/png": "[encoded data removed]",
      "text/plain": [
       "<Figure size 432x288 with 1 Axes>"
      ]
     },
     "metadata": {
      "needs_background": "light"
     },
     "output_type": "display_data"
    }
   ],
   "source": [
    "#logged data \n",
    "plt.hist(combined_log['cases_pop']) "
   ]
  },
  {
   "cell_type": "code",
   "execution_count": 272,
   "metadata": {},
   "outputs": [
    {
     "data": {
      "text/plain": [
       "<matplotlib.axes._subplots.AxesSubplot at 0x2164e7dfc48>"
      ]
     },
     "execution_count": 272,
     "metadata": {},
     "output_type": "execute_result"
    },
    {
     "data": {
      "image/png": "[encoded data removed]",
      "text/plain": [
       "<Figure size 432x288 with 1 Axes>"
      ]
     },
     "metadata": {
      "needs_background": "light"
     },
     "output_type": "display_data"
    }
   ],
   "source": [
    "combined_data.boxplot(column=['cases_pop'], by='republican')"
   ]
  },
  {
   "cell_type": "code",
   "execution_count": 273,
   "metadata": {},
   "outputs": [
    {
     "data": {
      "text/plain": [
       "<matplotlib.axes._subplots.AxesSubplot at 0x2164e82dd48>"
      ]
     },
     "execution_count": 273,
     "metadata": {},
     "output_type": "execute_result"
    },
    {
     "data": {
      "image/png": "[encoded data removed]",
      "text/plain": [
       "<Figure size 432x288 with 1 Axes>"
      ]
     },
     "metadata": {
      "needs_background": "light"
     },
     "output_type": "display_data"
    }
   ],
   "source": [
    "combined_log.boxplot(column=['cases_pop'], by='republican')"
   ]
  },
  {
   "cell_type": "code",
   "execution_count": 276,
   "metadata": {},
   "outputs": [],
   "source": [
    "#remove outliers\n",
    "\n",
    "rever_cdf = DataFrame(combined_log['cases_pop'].sort_values()) \n",
    "rever_cdf['rank'] = range(1,len(rever_cdf)+1)\n",
    "rever_cdf['rever_cdf'] = rever_cdf['rank'].map(lambda x: (len(rever_cdf)-x)/len(rever_cdf))\n",
    "combined_log = pd.concat([combined_log,rever_cdf['rever_cdf']],axis=1)\n",
    "\n",
    "combined_log = combined_log[(combined_log['rever_cdf']>0.02)&(combined_log['rever_cdf']<0.98)]"
   ]
  },
  {
   "cell_type": "code",
   "execution_count": 277,
   "metadata": {},
   "outputs": [
    {
     "data": {
      "text/plain": [
       "(array([ 64., 158., 216., 311., 359., 275., 216., 137.,  60.,  36.]),\n",
       " array([4.15977949, 4.65154702, 5.14331456, 5.6350821 , 6.12684964,\n",
       "        6.61861718, 7.11038472, 7.60215226, 8.0939198 , 8.58568734,\n",
       "        9.07745488]),\n",
       " <a list of 10 Patch objects>)"
      ]
     },
     "execution_count": 277,
     "metadata": {},
     "output_type": "execute_result"
    },
    {
     "data": {
      "image/png": "[encoded data removed]",
      "text/plain": [
       "<Figure size 432x288 with 1 Axes>"
      ]
     },
     "metadata": {
      "needs_background": "light"
     },
     "output_type": "display_data"
    }
   ],
   "source": [
    "plt.hist(combined_log['cases_pop']) "
   ]
  },
  {
   "cell_type": "code",
   "execution_count": 278,
   "metadata": {},
   "outputs": [
    {
     "data": {
      "text/plain": [
       "1832"
      ]
     },
     "execution_count": 278,
     "metadata": {},
     "output_type": "execute_result"
    }
   ],
   "source": [
    "len(combined_log)"
   ]
  },
  {
   "cell_type": "markdown",
   "metadata": {},
   "source": [
    "# Model Establishment"
   ]
  },
  {
   "cell_type": "markdown",
   "metadata": {},
   "source": [
    "### Regress Case/million to party affiliation"
   ]
  },
  {
   "cell_type": "code",
   "execution_count": 279,
   "metadata": {},
   "outputs": [],
   "source": [
    "combined_log = combined_log.dropna(subset=['republican','cases_pop','density_log'])"
   ]
  },
  {
   "cell_type": "code",
   "execution_count": 280,
   "metadata": {},
   "outputs": [
    {
     "data": {
      "text/html": [
       "<table class=\"simpletable\">\n",
       "<caption>OLS Regression Results</caption>\n",
       "<tr>\n",
       "  <th>Dep. Variable:</th>        <td>cases_pop</td>    <th>  R-squared (uncentered):</th>      <td>   0.925</td> \n",
       "</tr>\n",
       "<tr>\n",
       "  <th>Model:</th>                   <td>OLS</td>       <th>  Adj. R-squared (uncentered):</th> <td>   0.925</td> \n",
       "</tr>\n",
       "<tr>\n",
       "  <th>Method:</th>             <td>Least Squares</td>  <th>  F-statistic:       </th>          <td>1.122e+04</td>\n",
       "</tr>\n",
       "<tr>\n",
       "  <th>Date:</th>             <td>Sun, 03 May 2020</td> <th>  Prob (F-statistic):</th>           <td>  0.00</td>  \n",
       "</tr>\n",
       "<tr>\n",
       "  <th>Time:</th>                 <td>18:28:13</td>     <th>  Log-Likelihood:    </th>          <td> -3650.7</td> \n",
       "</tr>\n",
       "<tr>\n",
       "  <th>No. Observations:</th>      <td>  1831</td>      <th>  AIC:               </th>          <td>   7305.</td> \n",
       "</tr>\n",
       "<tr>\n",
       "  <th>Df Residuals:</th>          <td>  1829</td>      <th>  BIC:               </th>          <td>   7316.</td> \n",
       "</tr>\n",
       "<tr>\n",
       "  <th>Df Model:</th>              <td>     2</td>      <th>                     </th>              <td> </td>    \n",
       "</tr>\n",
       "<tr>\n",
       "  <th>Covariance Type:</th>      <td>nonrobust</td>    <th>                     </th>              <td> </td>    \n",
       "</tr>\n",
       "</table>\n",
       "<table class=\"simpletable\">\n",
       "<tr>\n",
       "       <td></td>          <th>coef</th>     <th>std err</th>      <th>t</th>      <th>P>|t|</th>  <th>[0.025</th>    <th>0.975]</th>  \n",
       "</tr>\n",
       "<tr>\n",
       "  <th>republican</th>  <td>    2.4455</td> <td>    0.076</td> <td>   32.325</td> <td> 0.000</td> <td>    2.297</td> <td>    2.594</td>\n",
       "</tr>\n",
       "<tr>\n",
       "  <th>density_log</th> <td>    1.0262</td> <td>    0.016</td> <td>   64.741</td> <td> 0.000</td> <td>    0.995</td> <td>    1.057</td>\n",
       "</tr>\n",
       "</table>\n",
       "<table class=\"simpletable\">\n",
       "<tr>\n",
       "  <th>Omnibus:</th>       <td>155.548</td> <th>  Durbin-Watson:     </th> <td>   1.435</td>\n",
       "</tr>\n",
       "<tr>\n",
       "  <th>Prob(Omnibus):</th> <td> 0.000</td>  <th>  Jarque-Bera (JB):  </th> <td> 199.621</td>\n",
       "</tr>\n",
       "<tr>\n",
       "  <th>Skew:</th>          <td> 0.735</td>  <th>  Prob(JB):          </th> <td>4.50e-44</td>\n",
       "</tr>\n",
       "<tr>\n",
       "  <th>Kurtosis:</th>      <td> 3.674</td>  <th>  Cond. No.          </th> <td>    7.95</td>\n",
       "</tr>\n",
       "</table><br/><br/>Warnings:<br/>[1] Standard Errors assume that the covariance matrix of the errors is correctly specified."
      ],
      "text/plain": [
       "<class 'statsmodels.iolib.summary.Summary'>\n",
       "\"\"\"\n",
       "                                 OLS Regression Results                                \n",
       "=======================================================================================\n",
       "Dep. Variable:              cases_pop   R-squared (uncentered):                   0.925\n",
       "Model:                            OLS   Adj. R-squared (uncentered):              0.925\n",
       "Method:                 Least Squares   F-statistic:                          1.122e+04\n",
       "Date:                Sun, 03 May 2020   Prob (F-statistic):                        0.00\n",
       "Time:                        18:28:13   Log-Likelihood:                         -3650.7\n",
       "No. Observations:                1831   AIC:                                      7305.\n",
       "Df Residuals:                    1829   BIC:                                      7316.\n",
       "Df Model:                           2                                                  \n",
       "Covariance Type:            nonrobust                                                  \n",
       "===============================================================================\n",
       "                  coef    std err          t      P>|t|      [0.025      0.975]\n",
       "-------------------------------------------------------------------------------\n",
       "republican      2.4455      0.076     32.325      0.000       2.297       2.594\n",
       "density_log     1.0262      0.016     64.741      0.000       0.995       1.057\n",
       "==============================================================================\n",
       "Omnibus:                      155.548   Durbin-Watson:                   1.435\n",
       "Prob(Omnibus):                  0.000   Jarque-Bera (JB):              199.621\n",
       "Skew:                           0.735   Prob(JB):                     4.50e-44\n",
       "Kurtosis:                       3.674   Cond. No.                         7.95\n",
       "==============================================================================\n",
       "\n",
       "Warnings:\n",
       "[1] Standard Errors assume that the covariance matrix of the errors is correctly specified.\n",
       "\"\"\""
      ]
     },
     "execution_count": 280,
     "metadata": {},
     "output_type": "execute_result"
    }
   ],
   "source": [
    "x_var = ['republican','density_log']\n",
    "X = combined_log[x_var]\n",
    "Y = combined_log['cases_pop']\n",
    "\n",
    "# Note the difference in argument order\n",
    "model = sm.OLS(Y, X).fit() ## sm.OLS(output, input)\n",
    "\n",
    "# Print out the statistics\n",
    "model.summary()"
   ]
  }
 ],
 "metadata": {
  "kernelspec": {
   "display_name": "Python 3",
   "language": "python",
   "name": "python3"
  },
  "language_info": {
   "codemirror_mode": {
    "name": "ipython",
    "version": 3
   },
   "file_extension": ".py",
   "mimetype": "text/x-python",
   "name": "python",
   "nbconvert_exporter": "python",
   "pygments_lexer": "ipython3",
   "version": "3.7.6"
  }
 },
 "nbformat": 4,
 "nbformat_minor": 4
}
